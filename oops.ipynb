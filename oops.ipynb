{
 "cells": [
  {
   "cell_type": "markdown",
   "metadata": {},
   "source": [
    "OOPS\n",
    "- Classes and objects\n",
    "    - Attributes(instance variables)\n",
    "    - Constructors\n",
    "    - Methods\n",
    "- Data classes\n",
    "- inheritance\n",
    "   - simple inheritance\n",
    "   - multiple inheritance\n"
   ]
  },
  {
   "cell_type": "code",
   "execution_count": 1,
   "metadata": {},
   "outputs": [],
   "source": [
    "a =10\n"
   ]
  },
  {
   "cell_type": "code",
   "execution_count": 3,
   "metadata": {},
   "outputs": [
    {
     "name": "stdout",
     "output_type": "stream",
     "text": [
      "<class 'int'>\n"
     ]
    }
   ],
   "source": [
    "print(type(a))"
   ]
  },
  {
   "cell_type": "code",
   "execution_count": 4,
   "metadata": {},
   "outputs": [],
   "source": [
    "class A:\n",
    "    value=10"
   ]
  },
  {
   "cell_type": "code",
   "execution_count": 6,
   "metadata": {},
   "outputs": [
    {
     "name": "stdout",
     "output_type": "stream",
     "text": [
      "10\n"
     ]
    }
   ],
   "source": [
    "a = A() #object creation of class A\n",
    "print(a.value)"
   ]
  },
  {
   "cell_type": "code",
   "execution_count": 8,
   "metadata": {},
   "outputs": [],
   "source": [
    "class Square:\n",
    "    side=10\n",
    "# instance method-> 1st parameter is self\n",
    "    def area(self):\n",
    "        return self.side ** 2\n",
    "    \n",
    "    def perimeter(self):\n",
    "        return 4 * self.side\n",
    "    # class method == similar to static method in java\n",
    "    def faltu():\n",
    "        return\"this is faltu\""
   ]
  },
  {
   "cell_type": "code",
   "execution_count": 11,
   "metadata": {},
   "outputs": [
    {
     "data": {
      "text/plain": [
       "'this is faltu'"
      ]
     },
     "execution_count": 11,
     "metadata": {},
     "output_type": "execute_result"
    }
   ],
   "source": [
    "Square.side\n",
    "Square.faltu()"
   ]
  },
  {
   "cell_type": "code",
   "execution_count": 12,
   "metadata": {},
   "outputs": [
    {
     "name": "stdout",
     "output_type": "stream",
     "text": [
      "400\n",
      "80\n",
      "100\n",
      "40\n"
     ]
    }
   ],
   "source": [
    "s = Square()\n",
    "s.side =20\n",
    "print(s.area())\n",
    "print(s.perimeter())\n",
    "\n",
    "s2 = Square()\n",
    "s.side = 6\n",
    "print(s2.area())\n",
    "print(s2.perimeter())\n",
    "\n"
   ]
  },
  {
   "cell_type": "markdown",
   "metadata": {},
   "source": [
    "CONSTRUCTOR\n",
    " \n",
    " __init__(self,...)\n"
   ]
  },
  {
   "cell_type": "code",
   "execution_count": 13,
   "metadata": {},
   "outputs": [],
   "source": [
    "class person:\n",
    "    #constructor\n",
    "    def __init__(self,n,a,g):\n",
    "        #instance variable\n",
    "        self.name= n\n",
    "        self.age = a\n",
    "        self.gender = g\n",
    "\n",
    "    def show(self):\n",
    "        print(f\"Name:{self.name},\")\n",
    "        print(f\"Age:{self.age},\")\n",
    "        print(f\"Gender:{self.gender},\")\n",
    "        "
   ]
  },
  {
   "cell_type": "code",
   "execution_count": 15,
   "metadata": {},
   "outputs": [],
   "source": [
    "p1=person(\"Hari\",14,\"male\")\n",
    "p2=person(\"vari\",18,\"female\")\n",
    "p3=person(\"Sharvi\",20,\"female\")"
   ]
  },
  {
   "cell_type": "code",
   "execution_count": 18,
   "metadata": {},
   "outputs": [],
   "source": [
    "class Calculator:\n",
    "\n",
    "    def add (self,a,b):\n",
    "        return a + b\n",
    "    def subtract (self,a,b):\n",
    "        return a - b\n",
    "    def multiply (self,a,b):\n",
    "        return a * b\n",
    "    def divide (self,a,b):\n",
    "        return a / b"
   ]
  },
  {
   "cell_type": "code",
   "execution_count": 19,
   "metadata": {},
   "outputs": [
    {
     "name": "stdout",
     "output_type": "stream",
     "text": [
      "30\n",
      "-10\n",
      "200\n"
     ]
    }
   ],
   "source": [
    "c = Calculator()\n",
    "print(c.add(10,20))\n",
    "print(c.subtract(10,20))\n",
    "print(c.multiply(10,20))"
   ]
  },
  {
   "cell_type": "markdown",
   "metadata": {},
   "source": [
    "Data Classes"
   ]
  },
  {
   "cell_type": "code",
   "execution_count": 20,
   "metadata": {},
   "outputs": [],
   "source": [
    "from dataclasses import dataclass\n",
    "\n",
    "@dataclass\n",
    "class product:\n",
    "    name : str\n",
    "    price : float\n",
    "    qty: int\n",
    "\n",
    "products = [\n",
    "    product(\"Apple\", 100,10),\n",
    "    product(\"Banana\",50,20),\n",
    "    product(\"mango\",200,6)\n",
    "    ]"
   ]
  },
  {
   "cell_type": "code",
   "execution_count": 21,
   "metadata": {},
   "outputs": [
    {
     "name": "stdout",
     "output_type": "stream",
     "text": [
      "Apple 1000\n",
      "Banana 1000\n",
      "mango 1200\n"
     ]
    }
   ],
   "source": [
    "#traverse\n",
    "for item in products:\n",
    "    print(item.name,item.price*item.qty)"
   ]
  },
  {
   "cell_type": "code",
   "execution_count": 22,
   "metadata": {},
   "outputs": [
    {
     "data": {
      "text/plain": [
       "[product(name='Apple', price=100, qty=10),\n",
       " product(name='Banana', price=50, qty=20),\n",
       " product(name='mango', price=200, qty=6)]"
      ]
     },
     "execution_count": 22,
     "metadata": {},
     "output_type": "execute_result"
    }
   ],
   "source": [
    "products"
   ]
  },
  {
   "cell_type": "code",
   "execution_count": 23,
   "metadata": {},
   "outputs": [
    {
     "data": {
      "text/plain": [
       "[<__main__.person at 0x2d2a729d070>,\n",
       " <__main__.person at 0x2d2a729d340>,\n",
       " <__main__.person at 0x2d2a729cbc0>]"
      ]
     },
     "execution_count": 23,
     "metadata": {},
     "output_type": "execute_result"
    }
   ],
   "source": [
    "[p1,p2,p3]"
   ]
  },
  {
   "cell_type": "code",
   "execution_count": 24,
   "metadata": {},
   "outputs": [],
   "source": [
    "class dog:\n",
    "    def __init__(self,breed,color,gender,age,name):\n",
    "        self.breed = breed\n",
    "        self.color = color\n",
    "        self.gender = gender\n",
    "        self.age = age\n",
    "        self.name = name \n",
    "\n",
    "    def bark(self):\n",
    "        print(\"barking\")\n",
    "    def eat(self,food):\n",
    "        print(f\"{self.name}eating{food}\")\n",
    "    def sleep(self,duration):\n",
    "        print(f\"{self.name} slept for{duration} hours\")\n",
    "    def __str__(self):\n",
    "        return f\"{self.name}({self.breed})\""
   ]
  },
  {
   "cell_type": "code",
   "execution_count": 27,
   "metadata": {},
   "outputs": [
    {
     "name": "stdout",
     "output_type": "stream",
     "text": [
      "Fudge slept for4 hours\n",
      "Fudge(pug)\n"
     ]
    }
   ],
   "source": [
    "d1 = dog (\"pug\", \"Brown\", \"male\", 6, \"Fudge\")\n",
    "d1.sleep(4)\n",
    "print(d1)"
   ]
  },
  {
   "cell_type": "markdown",
   "metadata": {},
   "source": [
    "INHERITANCE"
   ]
  },
  {
   "cell_type": "code",
   "execution_count": 28,
   "metadata": {},
   "outputs": [],
   "source": [
    "class superlist(list):\n",
    "    pass"
   ]
  },
  {
   "cell_type": "code",
   "execution_count": 29,
   "metadata": {},
   "outputs": [
    {
     "data": {
      "text/plain": [
       "[1, 2, 3, 4, 5]"
      ]
     },
     "execution_count": 29,
     "metadata": {},
     "output_type": "execute_result"
    }
   ],
   "source": [
    "superlist([1,2,3,4,5])"
   ]
  },
  {
   "cell_type": "code",
   "execution_count": 33,
   "metadata": {},
   "outputs": [],
   "source": [
    "class superlist(list):\n",
    "    def sum(self):\n",
    "        total = 0\n",
    "        for item in self:\n",
    "            if isinstance(item,(int,float)):\n",
    "                total += item\n",
    "        return total\n",
    "    \n",
    "    def mean(self):\n",
    "        return self.sum()/ self.size()\n",
    "    \n",
    "    def size(self):\n",
    "        return len([i for i in self if isinstance(i,(int,float))])"
   ]
  },
  {
   "cell_type": "code",
   "execution_count": 34,
   "metadata": {},
   "outputs": [
    {
     "name": "stdout",
     "output_type": "stream",
     "text": [
      "15\n",
      "22\n",
      "3.0\n"
     ]
    }
   ],
   "source": [
    "s1 = superlist([1,2,3,4,5])\n",
    "print(s1.sum())\n",
    "s12 = superlist(['A',1,2,3,4,5,'F',7])\n",
    "print(s12.sum())\n",
    "print(s1.mean())"
   ]
  },
  {
   "cell_type": "code",
   "execution_count": null,
   "metadata": {},
   "outputs": [],
   "source": []
  }
 ],
 "metadata": {
  "kernelspec": {
   "display_name": "base",
   "language": "python",
   "name": "python3"
  },
  "language_info": {
   "codemirror_mode": {
    "name": "ipython",
    "version": 3
   },
   "file_extension": ".py",
   "mimetype": "text/x-python",
   "name": "python",
   "nbconvert_exporter": "python",
   "pygments_lexer": "ipython3",
   "version": "3.12.4"
  }
 },
 "nbformat": 4,
 "nbformat_minor": 2
}
